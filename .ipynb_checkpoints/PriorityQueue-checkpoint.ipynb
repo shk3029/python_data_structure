{
 "cells": [
  {
   "cell_type": "markdown",
   "id": "6e4e92f3",
   "metadata": {},
   "source": [
    "# 직접구현"
   ]
  },
  {
   "cell_type": "code",
   "execution_count": null,
   "id": "98771319",
   "metadata": {},
   "outputs": [],
   "source": []
  },
  {
   "cell_type": "markdown",
   "id": "1cf9048c",
   "metadata": {},
   "source": [
    "# 파이썬 모듈 사용"
   ]
  },
  {
   "cell_type": "code",
   "execution_count": 11,
   "id": "44e7a378",
   "metadata": {},
   "outputs": [],
   "source": [
    "from queue import PriorityQueue"
   ]
  },
  {
   "cell_type": "code",
   "execution_count": 12,
   "id": "51a42d03",
   "metadata": {},
   "outputs": [],
   "source": [
    "que = PriorityQueue()"
   ]
  },
  {
   "cell_type": "code",
   "execution_count": 13,
   "id": "20d33c6a",
   "metadata": {},
   "outputs": [],
   "source": [
    "# 특정 사이즈 조절 (default : 무한대)\n",
    "que = PriorityQueue(maxsize=8)"
   ]
  },
  {
   "cell_type": "code",
   "execution_count": 14,
   "id": "b128baf0",
   "metadata": {},
   "outputs": [],
   "source": [
    "que.put(4)\n",
    "que.put(1)\n",
    "que.put(7)\n",
    "que.put(3)"
   ]
  },
  {
   "cell_type": "code",
   "execution_count": 31,
   "id": "652fca55",
   "metadata": {},
   "outputs": [
    {
     "data": {
      "text/plain": [
       "3"
      ]
     },
     "execution_count": 31,
     "metadata": {},
     "output_type": "execute_result"
    }
   ],
   "source": [
    "que.get() #원소 꺼내기"
   ]
  },
  {
   "cell_type": "code",
   "execution_count": 32,
   "id": "241a9cda",
   "metadata": {},
   "outputs": [],
   "source": [
    "que_2 = PriorityQueue()"
   ]
  },
  {
   "cell_type": "code",
   "execution_count": 33,
   "id": "fc026c5c",
   "metadata": {},
   "outputs": [],
   "source": [
    "que_2.put((1, \"Apple\"))\n",
    "que_2.put((5, \"Jack\"))\n",
    "que_2.put((2, \"Samsung\"))\n",
    "que_2.put((8, \"Samsung\"))\n",
    "que_2.put((15, \"Samsung\"))\n",
    "que_2.put((3, \"Samsung\"))"
   ]
  },
  {
   "cell_type": "code",
   "execution_count": 35,
   "id": "816432cc",
   "metadata": {},
   "outputs": [
    {
     "data": {
      "text/plain": [
       "'Samsung'"
      ]
     },
     "execution_count": 35,
     "metadata": {},
     "output_type": "execute_result"
    }
   ],
   "source": [
    "que_2.get()[1]"
   ]
  },
  {
   "cell_type": "code",
   "execution_count": null,
   "id": "690fd59d",
   "metadata": {},
   "outputs": [],
   "source": []
  },
  {
   "cell_type": "code",
   "execution_count": null,
   "id": "390b4278",
   "metadata": {},
   "outputs": [],
   "source": []
  }
 ],
 "metadata": {
  "kernelspec": {
   "display_name": "Python 3",
   "language": "python",
   "name": "python3"
  },
  "language_info": {
   "codemirror_mode": {
    "name": "ipython",
    "version": 3
   },
   "file_extension": ".py",
   "mimetype": "text/x-python",
   "name": "python",
   "nbconvert_exporter": "python",
   "pygments_lexer": "ipython3",
   "version": "3.8.8"
  }
 },
 "nbformat": 4,
 "nbformat_minor": 5
}
