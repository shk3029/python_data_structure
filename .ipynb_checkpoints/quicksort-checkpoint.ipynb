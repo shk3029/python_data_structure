{
 "cells": [
  {
   "cell_type": "code",
   "execution_count": 14,
   "id": "73188398",
   "metadata": {},
   "outputs": [],
   "source": [
    "# 재귀\n",
    "# 재귀가 호출될 때마다 새로운 리스트를 생성하므로 메모리 사용 측면에서 비효율적\n",
    "def self_quick(arr):\n",
    "    if len(arr) <= 1:\n",
    "        return arr\n",
    "    \n",
    "    pivot = arr[len(arr)//2]\n",
    "    \n",
    "    lesser_list = [num for num in arr if num < pivot]\n",
    "    equal_list = [num for num in arr if num == pivot]\n",
    "    greater_list = [num for num in arr if num > pivot]\n",
    "    \n",
    "    return self_quick(lesser_list) + equal_list + self_quick(greater_list)"
   ]
  },
  {
   "cell_type": "code",
   "execution_count": 15,
   "id": "0043bc16",
   "metadata": {},
   "outputs": [],
   "source": [
    "# 최적화\n"
   ]
  },
  {
   "cell_type": "code",
   "execution_count": 16,
   "id": "4b21b16f",
   "metadata": {},
   "outputs": [
    {
     "data": {
      "text/plain": [
       "[1, 2, 3, 4, 5, 9]"
      ]
     },
     "execution_count": 16,
     "metadata": {},
     "output_type": "execute_result"
    }
   ],
   "source": [
    "arr = [1,5,2,9,3,4]\n",
    "self_quick(arr)"
   ]
  },
  {
   "cell_type": "code",
   "execution_count": null,
   "id": "7e1ead3d",
   "metadata": {},
   "outputs": [],
   "source": []
  }
 ],
 "metadata": {
  "kernelspec": {
   "display_name": "Python 3",
   "language": "python",
   "name": "python3"
  },
  "language_info": {
   "codemirror_mode": {
    "name": "ipython",
    "version": 3
   },
   "file_extension": ".py",
   "mimetype": "text/x-python",
   "name": "python",
   "nbconvert_exporter": "python",
   "pygments_lexer": "ipython3",
   "version": "3.8.8"
  }
 },
 "nbformat": 4,
 "nbformat_minor": 5
}
