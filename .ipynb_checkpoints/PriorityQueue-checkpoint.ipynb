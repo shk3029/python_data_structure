{
 "cells": [
  {
   "cell_type": "markdown",
   "id": "930d77d5",
   "metadata": {},
   "source": [
    "# 직접구현"
   ]
  },
  {
   "cell_type": "code",
   "execution_count": null,
   "id": "689a4bc8",
   "metadata": {},
   "outputs": [],
   "source": []
  },
  {
   "cell_type": "markdown",
   "id": "0ce590d8",
   "metadata": {},
   "source": [
    "# 파이썬 모듈 사용"
   ]
  },
  {
   "cell_type": "code",
   "execution_count": 11,
   "id": "378a2f2c",
   "metadata": {},
   "outputs": [],
   "source": [
    "from queue import PriorityQueue"
   ]
  },
  {
   "cell_type": "code",
   "execution_count": 12,
   "id": "ddf808bd",
   "metadata": {},
   "outputs": [],
   "source": [
    "que = PriorityQueue()"
   ]
  },
  {
   "cell_type": "code",
   "execution_count": 13,
   "id": "d87cb3ee",
   "metadata": {},
   "outputs": [],
   "source": [
    "# 특정 사이즈 조절 (default : 무한대)\n",
    "que = PriorityQueue(maxsize=8)"
   ]
  },
  {
   "cell_type": "code",
   "execution_count": 14,
   "id": "2e3fe3f1",
   "metadata": {},
   "outputs": [],
   "source": [
    "que.put(4)\n",
    "que.put(1)\n",
    "que.put(7)\n",
    "que.put(3)"
   ]
  },
  {
   "cell_type": "code",
   "execution_count": 31,
   "id": "34ccc459",
   "metadata": {},
   "outputs": [
    {
     "data": {
      "text/plain": [
       "3"
      ]
     },
     "execution_count": 31,
     "metadata": {},
     "output_type": "execute_result"
    }
   ],
   "source": [
    "que.get() #원소 꺼내기"
   ]
  },
  {
   "cell_type": "code",
   "execution_count": 32,
   "id": "d82199a3",
   "metadata": {},
   "outputs": [],
   "source": [
    "que_2 = PriorityQueue()"
   ]
  },
  {
   "cell_type": "code",
   "execution_count": 33,
   "id": "e7562533",
   "metadata": {},
   "outputs": [],
   "source": [
    "que_2.put((1, \"Apple\"))\n",
    "que_2.put((5, \"Jack\"))\n",
    "que_2.put((2, \"Samsung\"))\n",
    "que_2.put((8, \"Samsung\"))\n",
    "que_2.put((15, \"Samsung\"))\n",
    "que_2.put((3, \"Samsung\"))"
   ]
  },
  {
   "cell_type": "code",
   "execution_count": 35,
   "id": "7bf00035",
   "metadata": {},
   "outputs": [
    {
     "data": {
      "text/plain": [
       "'Samsung'"
      ]
     },
     "execution_count": 35,
     "metadata": {},
     "output_type": "execute_result"
    }
   ],
   "source": [
    "que_2.get()[1]"
   ]
  },
  {
   "cell_type": "code",
   "execution_count": null,
   "id": "8031ff6e",
   "metadata": {},
   "outputs": [],
   "source": []
  },
  {
   "cell_type": "code",
   "execution_count": null,
   "id": "15bf0d9c",
   "metadata": {},
   "outputs": [],
   "source": []
  }
 ],
 "metadata": {
  "kernelspec": {
   "display_name": "Python 3",
   "language": "python",
   "name": "python3"
  },
  "language_info": {
   "codemirror_mode": {
    "name": "ipython",
    "version": 3
   },
   "file_extension": ".py",
   "mimetype": "text/x-python",
   "name": "python",
   "nbconvert_exporter": "python",
   "pygments_lexer": "ipython3",
   "version": "3.8.8"
  }
 },
 "nbformat": 4,
 "nbformat_minor": 5
}
