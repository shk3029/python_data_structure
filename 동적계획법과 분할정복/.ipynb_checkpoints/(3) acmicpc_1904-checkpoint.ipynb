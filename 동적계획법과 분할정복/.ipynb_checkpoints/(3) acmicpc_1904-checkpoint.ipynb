{
 "cells": [
  {
   "cell_type": "markdown",
   "id": "8bed92d6",
   "metadata": {},
   "source": [
    "- f(1) = 1\n",
    "- f(2) = 2\n",
    "- f(3) = 3\n",
    "    - 001 100 111 \n",
    "- f(4) = 5\n",
    "    - 0000 0011 1100 1001 1111\n",
    "- f(5) = 8\n",
    "    - 00001 00100 10000 11001 10011 00111 11100 11111"
   ]
  },
  {
   "cell_type": "code",
   "execution_count": 2,
   "id": "67b5b005",
   "metadata": {},
   "outputs": [
    {
     "name": "stdout",
     "output_type": "stream",
     "text": [
      "3\n",
      "3\n"
     ]
    }
   ],
   "source": [
    "n = int(input())\n",
    "dp = [0]*(n+2)\n",
    "dp[1]=1\n",
    "dp[2]=2\n",
    "for i in range(3,n+1):\n",
    "    dp[i] = (dp[i-1] + dp[i-2]) % 15746\n",
    "\n",
    "print(dp[n])"
   ]
  },
  {
   "cell_type": "code",
   "execution_count": 14,
   "id": "adbfd5f2",
   "metadata": {},
   "outputs": [
    {
     "name": "stdout",
     "output_type": "stream",
     "text": [
      "0\n"
     ]
    }
   ],
   "source": [
    "print(0)"
   ]
  },
  {
   "cell_type": "code",
   "execution_count": null,
   "id": "6fe66fd3",
   "metadata": {},
   "outputs": [],
   "source": []
  }
 ],
 "metadata": {
  "kernelspec": {
   "display_name": "Python 3",
   "language": "python",
   "name": "python3"
  },
  "language_info": {
   "codemirror_mode": {
    "name": "ipython",
    "version": 3
   },
   "file_extension": ".py",
   "mimetype": "text/x-python",
   "name": "python",
   "nbconvert_exporter": "python",
   "pygments_lexer": "ipython3",
   "version": "3.8.8"
  }
 },
 "nbformat": 4,
 "nbformat_minor": 5
}
