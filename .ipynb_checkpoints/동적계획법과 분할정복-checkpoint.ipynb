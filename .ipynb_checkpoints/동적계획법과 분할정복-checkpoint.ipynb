{
 "cells": [
  {
   "cell_type": "markdown",
   "id": "af9221b5",
   "metadata": {},
   "source": [
    "## 다이나믹 프로그래밍\n"
   ]
  },
  {
   "cell_type": "markdown",
   "id": "f9410e1f",
   "metadata": {},
   "source": [
    "### 동적계획법 (DP)"
   ]
  },
  {
   "cell_type": "markdown",
   "id": "23da0a95",
   "metadata": {},
   "source": [
    "상향식 접근법으로, 가장 최하위 해답을 구한 후, 이를 저장하고, 해당 결과값을 이용해서 상위 문제를 풀어가는 방식"
   ]
  },
  {
   "cell_type": "markdown",
   "id": "3156e01c",
   "metadata": {},
   "source": [
    "Memoization 기법을 사용 \n",
    "- 이전 계산 값을 저장하여 다시 계산하지 않도록 하여 전체 실행 속도를 빠르게 하는 기술"
   ]
  },
  {
   "cell_type": "markdown",
   "id": "0d60bc6a",
   "metadata": {},
   "source": [
    "문제를 잘게 쪼갤 때, 부분 문제는 중복되어, 재활용됨\n",
    "- ex) 피보나치 수열"
   ]
  },
  {
   "cell_type": "markdown",
   "id": "8e5842b8",
   "metadata": {},
   "source": [
    "### 분할 정복"
   ]
  },
  {
   "cell_type": "markdown",
   "id": "f055ba68",
   "metadata": {},
   "source": [
    "- 문제를 나눌 수 없을 때까지 나누어서 각각을 풀면서 다시 합병하여 문제의 답을 얻는 알고리즘\n",
    "- 하양식 접근법으로, 상위의 해답을 구하기 위해, 아래로 내려가면서 하위의 해답을 구함\n",
    "    - 일반적으로 재귀함수로 구현\n",
    "- 문제를 잘게 쪼갤 때, 부분 문제는 서로 중복되지 않음\n",
    "    - 예) 병합 정렬, 퀵 정렬\n",
    "   "
   ]
  },
  {
   "cell_type": "markdown",
   "id": "73a56dfb",
   "metadata": {},
   "source": [
    "# 피보나치"
   ]
  },
  {
   "cell_type": "markdown",
   "id": "db1925a4",
   "metadata": {},
   "source": [
    "### recursive 활용"
   ]
  },
  {
   "cell_type": "code",
   "execution_count": 2,
   "id": "52244d1d",
   "metadata": {},
   "outputs": [],
   "source": [
    "def fibo(num):\n",
    "    if num<=1:\n",
    "        return num\n",
    "    return fibo(num-1) + fibo(num-2)"
   ]
  },
  {
   "cell_type": "code",
   "execution_count": 3,
   "id": "8c2ac75d",
   "metadata": {},
   "outputs": [
    {
     "data": {
      "text/plain": [
       "3"
      ]
     },
     "execution_count": 3,
     "metadata": {},
     "output_type": "execute_result"
    }
   ],
   "source": [
    "fibo(4)"
   ]
  },
  {
   "cell_type": "markdown",
   "id": "b4714404",
   "metadata": {},
   "source": [
    "### 다이나믹프로그래밍 활용"
   ]
  },
  {
   "cell_type": "code",
   "execution_count": 5,
   "id": "c1e6426f",
   "metadata": {},
   "outputs": [],
   "source": [
    "def fibo_dp(num):\n",
    "    cache = [0 for index in range(num+1)]\n",
    "    cache[0] = 0\n",
    "    cache[1] = 1\n",
    "\n",
    "    for index in range(2,num+1):\n",
    "        cache[index] = cache[index-1] + cache[index-2]\n",
    "    \n",
    "    return cache[num]"
   ]
  },
  {
   "cell_type": "code",
   "execution_count": 7,
   "id": "7c248b58",
   "metadata": {},
   "outputs": [
    {
     "data": {
      "text/plain": [
       "3"
      ]
     },
     "execution_count": 7,
     "metadata": {},
     "output_type": "execute_result"
    }
   ],
   "source": [
    "fibo_dp(4)"
   ]
  },
  {
   "cell_type": "code",
   "execution_count": null,
   "id": "1588393b",
   "metadata": {},
   "outputs": [],
   "source": []
  }
 ],
 "metadata": {
  "kernelspec": {
   "display_name": "Python 3",
   "language": "python",
   "name": "python3"
  },
  "language_info": {
   "codemirror_mode": {
    "name": "ipython",
    "version": 3
   },
   "file_extension": ".py",
   "mimetype": "text/x-python",
   "name": "python",
   "nbconvert_exporter": "python",
   "pygments_lexer": "ipython3",
   "version": "3.8.8"
  }
 },
 "nbformat": 4,
 "nbformat_minor": 5
}
