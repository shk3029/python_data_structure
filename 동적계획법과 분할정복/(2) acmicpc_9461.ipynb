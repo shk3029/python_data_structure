{
 "cells": [
  {
   "cell_type": "markdown",
   "id": "8f28fa90",
   "metadata": {},
   "source": [
    "### 파도반 수열"
   ]
  },
  {
   "cell_type": "markdown",
   "id": "81d4ec55",
   "metadata": {},
   "source": [
    "- P(1) = 1\n",
    "- P(2) = 1\n",
    "- P(3) = 1\n",
    "- P(4) = 2\n",
    "- P(5) = 2  \n",
    "- P(6) = 3  (2+1)\n",
    "- P(7) = 4  (3+1)\n",
    "- P(8) = 5  (4+1)\n",
    "- P(9) = 7 (5+2)\n",
    "- P(10)= 9 (7+2)\n",
    "- P(11)= 12 (9+3)\n",
    "- P(12)= 16 (12+4)\n",
    "- P(13) = 21 (16+5)\n",
    "- P(n) = P(n-1) + P(n-5)"
   ]
  },
  {
   "cell_type": "code",
   "execution_count": 13,
   "id": "924cd0b5",
   "metadata": {},
   "outputs": [
    {
     "name": "stdout",
     "output_type": "stream",
     "text": [
      "5\n"
     ]
    }
   ],
   "source": [
    "n = int(input())"
   ]
  },
  {
   "cell_type": "code",
   "execution_count": 17,
   "id": "60784758",
   "metadata": {},
   "outputs": [
    {
     "name": "stdout",
     "output_type": "stream",
     "text": [
      "2\n",
      "6\n",
      "12\n",
      "3\n",
      "16\n"
     ]
    }
   ],
   "source": [
    "dp = [0] * 101\n",
    "dp[1] = 1\n",
    "dp[2] = 1\n",
    "dp[3] = 1\n",
    "dp[4] = 2\n",
    "dp[5] = 2\n",
    "\n",
    "for i in range(6,101):\n",
    "    dp[i] = dp[i-5] + dp[i-1]\n",
    "\n",
    "testcase = int(input())\n",
    "\n",
    "n_list = []\n",
    "for _ in range(0,testcase):\n",
    "    n = int(input())\n",
    "    n_list.append(n)\n",
    "\n",
    "for n in n_list:\n",
    "    print(dp[n])\n",
    "    "
   ]
  },
  {
   "cell_type": "code",
   "execution_count": null,
   "id": "7a28eb09",
   "metadata": {},
   "outputs": [],
   "source": []
  }
 ],
 "metadata": {
  "kernelspec": {
   "display_name": "Python 3",
   "language": "python",
   "name": "python3"
  },
  "language_info": {
   "codemirror_mode": {
    "name": "ipython",
    "version": 3
   },
   "file_extension": ".py",
   "mimetype": "text/x-python",
   "name": "python",
   "nbconvert_exporter": "python",
   "pygments_lexer": "ipython3",
   "version": "3.8.8"
  }
 },
 "nbformat": 4,
 "nbformat_minor": 5
}
