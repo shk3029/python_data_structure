{
 "cells": [
  {
   "cell_type": "markdown",
   "id": "a39e6ce5",
   "metadata": {},
   "source": [
    "# 직접 구현"
   ]
  },
  {
   "cell_type": "code",
   "execution_count": 31,
   "id": "b900142b",
   "metadata": {},
   "outputs": [],
   "source": [
    "class Heap:\n",
    "    def __init__(self, data):\n",
    "        self.array = list()\n",
    "        "
   ]
  },
  {
   "cell_type": "code",
   "execution_count": null,
   "id": "e3a46934",
   "metadata": {},
   "outputs": [],
   "source": []
  },
  {
   "cell_type": "markdown",
   "id": "8d45e256",
   "metadata": {},
   "source": [
    "# heapq 모듈사용"
   ]
  },
  {
   "cell_type": "code",
   "execution_count": 25,
   "id": "94fb51a0",
   "metadata": {},
   "outputs": [],
   "source": [
    "import heapq"
   ]
  },
  {
   "cell_type": "markdown",
   "id": "96b7766d",
   "metadata": {},
   "source": [
    "## 최소힙"
   ]
  },
  {
   "cell_type": "code",
   "execution_count": 26,
   "id": "0e3bd07c",
   "metadata": {},
   "outputs": [
    {
     "name": "stdout",
     "output_type": "stream",
     "text": [
      "[1, 2, 3, 5, 4]\n",
      "[1, 2, 3, 5, 4, 6]\n",
      "[0, 2, 1, 5, 4, 6, 3]\n"
     ]
    }
   ],
   "source": [
    "array = [2,1,3,5,4]\n",
    "\n",
    "## list to heap\n",
    "heapq.heapify(array)\n",
    "print(array)\n",
    "\n",
    "heapq.heappush(array, 6)\n",
    "print(array)\n",
    "\n",
    "heapq.heappush(array, 0)\n",
    "print(array)"
   ]
  },
  {
   "cell_type": "markdown",
   "id": "caa3f5dc",
   "metadata": {},
   "source": [
    "## 최대힙"
   ]
  },
  {
   "cell_type": "code",
   "execution_count": 30,
   "id": "17350da4",
   "metadata": {},
   "outputs": [
    {
     "name": "stdout",
     "output_type": "stream",
     "text": [
      "[5, 4, 3, 1, 2]\n"
     ]
    }
   ],
   "source": [
    "array = [2,1,3,5,4]\n",
    "\n",
    "#array = [-i for i in array]\n",
    "array = list(map(lambda x:-x, array))\n",
    "heapq.heapify(array)\n",
    "array = list(map(lambda x:-x, array))\n",
    "print(array)"
   ]
  },
  {
   "cell_type": "code",
   "execution_count": null,
   "id": "479f00a3",
   "metadata": {},
   "outputs": [],
   "source": []
  }
 ],
 "metadata": {
  "kernelspec": {
   "display_name": "Python 3",
   "language": "python",
   "name": "python3"
  },
  "language_info": {
   "codemirror_mode": {
    "name": "ipython",
    "version": 3
   },
   "file_extension": ".py",
   "mimetype": "text/x-python",
   "name": "python",
   "nbconvert_exporter": "python",
   "pygments_lexer": "ipython3",
   "version": "3.8.8"
  }
 },
 "nbformat": 4,
 "nbformat_minor": 5
}
