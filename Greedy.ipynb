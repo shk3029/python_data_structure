{
 "cells": [
  {
   "cell_type": "markdown",
   "id": "ac96f4d3",
   "metadata": {},
   "source": [
    "## 그리디 알고리즘"
   ]
  },
  {
   "cell_type": "markdown",
   "id": "eecc516c",
   "metadata": {},
   "source": [
    "현재 상황에서 지금 당장 좋은 것만 고르는 방법을 의미"
   ]
  },
  {
   "cell_type": "code",
   "execution_count": null,
   "id": "cfa9d043",
   "metadata": {},
   "outputs": [],
   "source": []
  }
 ],
 "metadata": {
  "kernelspec": {
   "display_name": "Python 3",
   "language": "python",
   "name": "python3"
  },
  "language_info": {
   "codemirror_mode": {
    "name": "ipython",
    "version": 3
   },
   "file_extension": ".py",
   "mimetype": "text/x-python",
   "name": "python",
   "nbconvert_exporter": "python",
   "pygments_lexer": "ipython3",
   "version": "3.8.8"
  }
 },
 "nbformat": 4,
 "nbformat_minor": 5
}
